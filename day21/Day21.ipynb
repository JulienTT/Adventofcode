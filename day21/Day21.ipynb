{
 "cells": [
  {
   "cell_type": "code",
   "execution_count": 8,
   "id": "contemporary-prediction",
   "metadata": {},
   "outputs": [
    {
     "name": "stdout",
     "output_type": "stream",
     "text": [
      "1002474\n"
     ]
    }
   ],
   "source": [
    "import sys\n",
    "import numpy as np\n",
    "import copy\n",
    "from functools import lru_cache,wraps\n",
    "from operator import itemgetter,countOf\n",
    "import matplotlib.pyplot as plt\n",
    "import collections\n",
    "\n",
    "def move(p,seq,n):\n",
    "    p += 3*seq+3\n",
    "    p = p%10\n",
    "    if p==0:\n",
    "        p=10\n",
    "    seq+=3\n",
    "    n+=3\n",
    "    return n,p,seq\n",
    "    \n",
    "\n",
    "if __name__ == '__main__':\n",
    "    p1=5\n",
    "    p2=6\n",
    "    score1=0\n",
    "    score2=0\n",
    "    seq=1\n",
    "    n=0\n",
    "    while(score1<1000 and score2<1000):\n",
    "        n,p1,seq=move(p1,seq,n)\n",
    "        score1+=p1\n",
    "        if(score1>=1000):\n",
    "            print(score2*n)\n",
    "            break\n",
    "        n,p2,seq=move(p2,seq,n)\n",
    "        score2+=p2\n",
    "        if(score2>=1000):\n",
    "            print(score1*n)\n",
    "            break\n",
    "        \n",
    "        #print(p1,seq,score1)\n",
    "        #print(p2,seq,score2)\n",
    "    "
   ]
  },
  {
   "cell_type": "code",
   "execution_count": null,
   "id": "breathing-beatles",
   "metadata": {},
   "outputs": [],
   "source": []
  }
 ],
 "metadata": {
  "kernelspec": {
   "display_name": "Python 3",
   "language": "python",
   "name": "python3"
  },
  "language_info": {
   "codemirror_mode": {
    "name": "ipython",
    "version": 3
   },
   "file_extension": ".py",
   "mimetype": "text/x-python",
   "name": "python",
   "nbconvert_exporter": "python",
   "pygments_lexer": "ipython3",
   "version": "3.9.2"
  }
 },
 "nbformat": 4,
 "nbformat_minor": 5
}
