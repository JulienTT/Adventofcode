{
 "cells": [
  {
   "cell_type": "code",
   "execution_count": 8,
   "id": "contemporary-prediction",
   "metadata": {},
   "outputs": [
    {
     "name": "stdout",
     "output_type": "stream",
     "text": [
      "1002474\n"
     ]
    }
   ],
   "source": [
    "import sys\n",
    "import numpy as np\n",
    "import copy\n",
    "from functools import lru_cache,wraps\n",
    "from operator import itemgetter,countOf\n",
    "import matplotlib.pyplot as plt\n",
    "import collections\n",
    "\n",
    "def move(p,seq,n):\n",
    "    p += 3*seq+3\n",
    "    p = p%10\n",
    "    if p==0:\n",
    "        p=10\n",
    "    seq+=3\n",
    "    n+=3\n",
    "    return n,p,seq\n",
    "    \n",
    "\n",
    "if __name__ == '__main__':\n",
    "    p1=5\n",
    "    p2=6\n",
    "    score1=0\n",
    "    score2=0\n",
    "    seq=1\n",
    "    n=0\n",
    "    while(score1<1000 and score2<1000):\n",
    "        n,p1,seq=move(p1,seq,n)\n",
    "        score1+=p1\n",
    "        if(score1>=1000):\n",
    "            print(score2*n)\n",
    "            break\n",
    "        n,p2,seq=move(p2,seq,n)\n",
    "        score2+=p2\n",
    "        if(score2>=1000):\n",
    "            print(score1*n)\n",
    "            break\n",
    "        \n",
    "        #print(p1,seq,score1)\n",
    "        #print(p2,seq,score2)\n",
    "    "
   ]
  },
  {
   "cell_type": "code",
   "execution_count": 25,
   "id": "breathing-beatles",
   "metadata": {},
   "outputs": [
    {
     "name": "stdout",
     "output_type": "stream",
     "text": [
      "919758187195363\n"
     ]
    }
   ],
   "source": [
    "import sys\n",
    "import numpy as np\n",
    "import copy\n",
    "from functools import lru_cache,wraps\n",
    "from operator import itemgetter,countOf\n",
    "import matplotlib.pyplot as plt\n",
    "import collections\n",
    "\n",
    "n1=0\n",
    "n2=0\n",
    "\n",
    "@lru_cache(maxsize=1000)\n",
    "def moveone(p1,p2,score1,score2,d1,dices):\n",
    "    p1=(p1+d1)%10\n",
    "    p1=10 if p1==0 else p1\n",
    "    score1=score1+p1\n",
    "    if(score1>=21):\n",
    "        return 1,0\n",
    "        #print('one wins')\n",
    "    else:\n",
    "        return gametwo(p1,p2,score1,score2,dices)\n",
    "\n",
    "@lru_cache(maxsize=1000)\n",
    "def movetwo(p1,p2,score1,score2,d2,dices):\n",
    "    p2=(p2+d2)%10\n",
    "    p2=10 if p2==0 else p2\n",
    "    score2=score2+p2\n",
    "    global n2\n",
    "    if(score2>=21):\n",
    "        return 0,1\n",
    "        #print('two wins')\n",
    "    else:\n",
    "        return gameone(p1,p2,score1,score2,dices)\n",
    "\n",
    "@lru_cache(maxsize=1000)\n",
    "def gameone(p1,p2,score1,score2,dices):\n",
    "    n1temp,n2temp=0,0\n",
    "    for i in dices:\n",
    "        a,b = moveone(p1,p2,score1,score2,i[0],dices)\n",
    "        n1temp+=i[1]*a\n",
    "        n2temp+=i[1]*b\n",
    "    return n1temp,n2temp\n",
    "\n",
    "@lru_cache(maxsize=1000)\n",
    "def gametwo(p1,p2,score1,score2,dices):\n",
    "    #print(p1,score1,p2,score2)\n",
    "    n1temp,n2temp=0,0\n",
    "    for i in dices:\n",
    "        a,b = movetwo(p1,p2,score1,score2,i[0],dices)\n",
    "        n1temp+=i[1]*a\n",
    "        n2temp+=i[1]*b\n",
    "    return n1temp,n2temp\n",
    "        \n",
    "def pouet(n):\n",
    "    return 2*n,3*n\n",
    "\n",
    "if __name__ == '__main__':\n",
    "    dices=((3,1),(4,3),(5,6),(6,7),(7,6),(8,3),(9,1))\n",
    "    p1=5\n",
    "    p2=6\n",
    "    score1=0\n",
    "    score2=0\n",
    "    n1,n2=gameone(p1,p2,score1,score2,dices)\n",
    "    print(n1 if n1>n2 else n2)"
   ]
  }
 ],
 "metadata": {
  "kernelspec": {
   "display_name": "Python 3",
   "language": "python",
   "name": "python3"
  },
  "language_info": {
   "codemirror_mode": {
    "name": "ipython",
    "version": 3
   },
   "file_extension": ".py",
   "mimetype": "text/x-python",
   "name": "python",
   "nbconvert_exporter": "python",
   "pygments_lexer": "ipython3",
   "version": "3.9.2"
  }
 },
 "nbformat": 4,
 "nbformat_minor": 5
}
