{
 "cells": [
  {
   "cell_type": "code",
   "execution_count": 54,
   "id": "contemporary-prediction",
   "metadata": {},
   "outputs": [
    {
     "name": "stdout",
     "output_type": "stream",
     "text": [
      "Count 513 n move=0\n"
     ]
    }
   ],
   "source": [
    "import sys\n",
    "import numpy as np\n",
    "import copy\n",
    "from functools import lru_cache,wraps\n",
    "from operator import itemgetter,countOf\n",
    "import matplotlib.pyplot as plt\n",
    "\n",
    "import collections\n",
    "\n",
    "def read_file(file_name):\n",
    "    with open(file_name) as input_file:\n",
    "        Lines=input_file.readlines()\n",
    "        Lines=[Line.replace('>','1') for Line in Lines]\n",
    "        Lines=[Line.replace('v','2') for Line in Lines]\n",
    "        Lines=[Line.replace('.','0') for Line in Lines]\n",
    "        Lines=[Line.replace('\\n','') for Line in Lines]\n",
    "        #print(Lines)\n",
    "        Lattice=np.array([[int(char) for char in Line] for Line in Lines])\n",
    "        Ly = len(Lines)\n",
    "        Lx = len(Lines[0])\n",
    "    return Lx,Ly,Lattice\n",
    "\n",
    "def MayMoveRight(Lattice,i,j):\n",
    "    if Lattice[i][j]==1 and Lattice[i][(j+1)%Lx]==0:\n",
    "        return 1,[[i,j]]\n",
    "    else:\n",
    "        return 0,[]\n",
    "    \n",
    "def MoveLatticeRight(Lattice,Moveright):\n",
    "    for [i,j] in MoveRight:\n",
    "        Lattice[i][j]-=1;\n",
    "        Lattice[i][(j+1)%Lx]+=1;\n",
    "\n",
    "def MayMoveDown(Lattice,i,j):\n",
    "    if Lattice[i][j]==2 and Lattice[(i+1)%Ly][j]==0:\n",
    "        return 1,[[i,j]]\n",
    "    else:\n",
    "        return 0,[]\n",
    "    \n",
    "def MoveLatticeDown(Lattice,MoveDown):\n",
    "    for [i,j] in MoveDown:\n",
    "        Lattice[i][j]-=2;\n",
    "        Lattice[(i+1)%Ly][j]+=2;\n",
    "\n",
    "if __name__ == '__main__':\n",
    "    \n",
    "    Lx,Ly,Lattice=read_file('input')\n",
    "    n=1\n",
    "    count=0\n",
    "    while n>0:\n",
    "        n=0\n",
    "        count+=1\n",
    "        \n",
    "        MoveRight=[]\n",
    "        for i in range(0,Ly):\n",
    "            for j in range(0,Lx):\n",
    "                n1,MoveRight1=MayMoveRight(Lattice,i,j)\n",
    "                n += n1\n",
    "                MoveRight += MoveRight1\n",
    "        MoveLatticeRight(Lattice,MoveRight)\n",
    "        \n",
    "        MoveDown=[]\n",
    "        for i in range(0,Ly):\n",
    "            for j in range(0,Lx):\n",
    "                n1,MoveDown1=MayMoveDown(Lattice,i,j)\n",
    "                n += n1\n",
    "                MoveDown += MoveDown1\n",
    "        MoveLatticeDown(Lattice,MoveDown)\n",
    "    print('Count {} n move={}'.format(count,n))\n",
    "    "
   ]
  },
  {
   "cell_type": "code",
   "execution_count": null,
   "id": "going-hometown",
   "metadata": {},
   "outputs": [],
   "source": []
  }
 ],
 "metadata": {
  "kernelspec": {
   "display_name": "Python 3",
   "language": "python",
   "name": "python3"
  },
  "language_info": {
   "codemirror_mode": {
    "name": "ipython",
    "version": 3
   },
   "file_extension": ".py",
   "mimetype": "text/x-python",
   "name": "python",
   "nbconvert_exporter": "python",
   "pygments_lexer": "ipython3",
   "version": "3.9.2"
  }
 },
 "nbformat": 4,
 "nbformat_minor": 5
}
