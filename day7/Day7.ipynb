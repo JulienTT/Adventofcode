{
 "cells": [
  {
   "cell_type": "code",
   "execution_count": 28,
   "id": "contemporary-prediction",
   "metadata": {},
   "outputs": [
    {
     "name": "stdout",
     "output_type": "stream",
     "text": [
      "356922\n"
     ]
    }
   ],
   "source": [
    "from functools import lru_cache\n",
    "import sys\n",
    "import numpy as np\n",
    "def read_file(file_name):\n",
    "    with open(file_name) as input_file:\n",
    "        return input_file.read().splitlines()\n",
    "\n",
    "def dist(x0):\n",
    "    return sum([abs(x0-i) for i in positions])\n",
    "    \n",
    "if __name__ == '__main__':\n",
    "    #read lines\n",
    "    #all_lines=read_file('input-test')\n",
    "    all_lines=read_file('input')\n",
    "    \n",
    "    #extract initial positions\n",
    "    positions = [ int(i) for i in all_lines[0].split(sep=',')]\n",
    "    \n",
    "    #compute the distances to all positions\n",
    "    distances=[dist(i) for i in range(min(positions),max(positions)+1)]\n",
    "    \n",
    "    #print the smallest\n",
    "    print(min(distances))\n",
    "\n",
    "    "
   ]
  },
  {
   "cell_type": "code",
   "execution_count": 30,
   "id": "accepted-buyer",
   "metadata": {},
   "outputs": [
    {
     "name": "stdout",
     "output_type": "stream",
     "text": [
      "100347031\n"
     ]
    }
   ],
   "source": [
    "def new_dist(x0):\n",
    "    return sum([int(abs(x0-i)*(abs(x0-i)+1)/2) for i in positions])\n",
    "\n",
    "if __name__ == '__main__':\n",
    "    #read lines\n",
    "    #all_lines=read_file('input-test')\n",
    "    all_lines=read_file('input')\n",
    "    \n",
    "    #extract initial positions\n",
    "    positions = [ int(i) for i in all_lines[0].split(sep=',')]\n",
    "    \n",
    "    #compute the distances to all positions\n",
    "    distances = [new_dist(i) for i in range(min(positions),max(positions)+1)]\n",
    "    \n",
    "    #use map to call the function offsprings on the arrays clocks and times\n",
    "    print(min(distances))\n"
   ]
  },
  {
   "cell_type": "code",
   "execution_count": null,
   "id": "integrated-ticket",
   "metadata": {},
   "outputs": [],
   "source": []
  }
 ],
 "metadata": {
  "kernelspec": {
   "display_name": "Python 3",
   "language": "python",
   "name": "python3"
  },
  "language_info": {
   "codemirror_mode": {
    "name": "ipython",
    "version": 3
   },
   "file_extension": ".py",
   "mimetype": "text/x-python",
   "name": "python",
   "nbconvert_exporter": "python",
   "pygments_lexer": "ipython3",
   "version": "3.9.2"
  }
 },
 "nbformat": 4,
 "nbformat_minor": 5
}
