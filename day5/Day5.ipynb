{
 "cells": [
  {
   "cell_type": "code",
   "execution_count": 78,
   "id": "contemporary-prediction",
   "metadata": {},
   "outputs": [
    {
     "name": "stdout",
     "output_type": "stream",
     "text": [
      "6283\n"
     ]
    }
   ],
   "source": [
    "import sys\n",
    "import numpy as np\n",
    "def read_file(file_name):\n",
    "    with open(file_name) as input_file:\n",
    "        return input_file.read().splitlines()\n",
    "\n",
    "def import_lines(all_lines):\n",
    "    lines=[];\n",
    "    xm=0;\n",
    "    ym=0;\n",
    "    # Add each line to the array and update the largest x and y values\n",
    "    for line in all_lines:\n",
    "        xm,ym=add_line(line,lines,xm,ym)\n",
    "    return xm,ym,lines\n",
    "\n",
    "def add_line(line,lines,xm,ym):\n",
    "    # data are string,string -> string,string\n",
    "    \n",
    "    # we split them in an array of strings\n",
    "    a=line.split(sep=' -> ')\n",
    "    \n",
    "    # then we transform the strings in ints\n",
    "    x0,y0=map(int,a[0].split(sep=','))\n",
    "    x1,y1=map(int,a[1].split(sep=','))\n",
    "    \n",
    "    #we update the max values\n",
    "    xm=max([x0,x1,xm])\n",
    "    ym=max([y0,y1,ym])\n",
    "    \n",
    "    #we add the line to the array \n",
    "    lines.append([x0,y0,x1,y1])\n",
    "    return xm,ym\n",
    "\n",
    "def add_line_to_board(board,line):\n",
    "    #if it is a vertical line\n",
    "    if(line[0]==line[2]):\n",
    "        #compute the sign of dy (1 or -1) and add 1's\n",
    "        dy=np.sign(line[3]-line[1])\n",
    "        for y in range(line[1],line[3]+dy,dy):\n",
    "            board[y][line[0]]+=1;\n",
    "\n",
    "    #if it is a horizontal line\n",
    "    elif(line[1]==line[3]):\n",
    "        #compute the sign of dx (1 or -1) and add 1's\n",
    "        dx=np.sign(line[2]-line[0])\n",
    "        for x in range(line[0],line[2]+dx,dx):\n",
    "            board[line[1]][x]+=1;    \n",
    "    \n",
    "if __name__ == '__main__':\n",
    "    # Part 1\n",
    "    \n",
    "    #read file\n",
    "    #all_lines=read_file('input-test')\n",
    "    all_lines=read_file('input')\n",
    "    \n",
    "    #store the lines in an array and get largest x & y values\n",
    "    xm,ym,lines=import_lines(all_lines)\n",
    "\n",
    "    # define the map\n",
    "    board=np.zeros(shape=(ym+1,xm+1),dtype=np.int64)\n",
    "       \n",
    "    # add the lines \n",
    "    for line in lines:\n",
    "        add_line_to_board(board,line)\n",
    "\n",
    "    newboard=board[board>1]\n",
    "    print(len(newboard))\n"
   ]
  },
  {
   "cell_type": "code",
   "execution_count": 79,
   "id": "skilled-kernel",
   "metadata": {},
   "outputs": [
    {
     "ename": "SyntaxError",
     "evalue": "invalid syntax (<ipython-input-79-d562e56623bf>, line 2)",
     "output_type": "error",
     "traceback": [
      "\u001b[0;36m  File \u001b[0;32m\"<ipython-input-79-d562e56623bf>\"\u001b[0;36m, line \u001b[0;32m2\u001b[0m\n\u001b[0;31m    if line[0]==line[2] || line[1]==line[3]:\u001b[0m\n\u001b[0m                         ^\u001b[0m\n\u001b[0;31mSyntaxError\u001b[0m\u001b[0;31m:\u001b[0m invalid syntax\n"
     ]
    }
   ],
   "source": [
    "def add_line_to_board_with_diagonals(board,line):\n",
    "    if line[0]==line[2] || line[1]==line[3]:\n",
    "        add_line_to_board(board,line)\n",
    "    else:\n",
    "        y=line[1]\n",
    "        dx=np.sign(line[2]-line[0])\n",
    "        dy=np.sign(line[3]-line[1])\n",
    "        for x in range(line[0],line[2]+dx,dx):\n",
    "            board[y][x]+=1;\n",
    "            y += dy;            \n",
    "    \n",
    "if __name__ == '__main__':\n",
    "    # Part 1\n",
    "    \n",
    "    #read file\n",
    "    all_lines=read_file('input')\n",
    "    #all_lines=read_file('input-test')\n",
    "    \n",
    "    #store the lines in an array and get largest x & y values\n",
    "    xm,ym,lines=import_lines(all_lines)\n",
    "\n",
    "    # define the map\n",
    "    board=np.zeros(shape=(ym+1,xm+1),dtype=np.int64)\n",
    "       \n",
    "    # add the lines \n",
    "    for line in lines:\n",
    "        add_line_to_board_with_diagonals(board,line)\n",
    "    \n",
    "    #make a new board with postions larger than 1\n",
    "    newboard=board[board>1]\n",
    "    \n",
    "    #its length is the number of dangerous positions \n",
    "    print(len(newboard))\n",
    "    \n"
   ]
  }
 ],
 "metadata": {
  "kernelspec": {
   "display_name": "Python 3",
   "language": "python",
   "name": "python3"
  },
  "language_info": {
   "codemirror_mode": {
    "name": "ipython",
    "version": 3
   },
   "file_extension": ".py",
   "mimetype": "text/x-python",
   "name": "python",
   "nbconvert_exporter": "python",
   "pygments_lexer": "ipython3",
   "version": "3.9.2"
  }
 },
 "nbformat": 4,
 "nbformat_minor": 5
}
