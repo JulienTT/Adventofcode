{
 "cells": [
  {
   "cell_type": "code",
   "execution_count": 27,
   "id": "contemporary-prediction",
   "metadata": {},
   "outputs": [
    {
     "name": "stdout",
     "output_type": "stream",
     "text": [
      "xmin 60 xmax 94 ymin -171 ymax -136\n",
      "Maximal heigt 14535\n",
      "Number of hits 2270\n"
     ]
    }
   ],
   "source": [
    "import sys\n",
    "import numpy as np\n",
    "import copy\n",
    "from functools import lru_cache,wraps\n",
    "from operator import itemgetter,countOf\n",
    "import collections\n",
    "\n",
    "\n",
    "def read_file(file_name):\n",
    "    with open(file_name) as input_file:\n",
    "        list_of_lines=input_file.read().splitlines()\n",
    "    List=list_of_lines[0].split(' ')\n",
    "    List[2]=List[2].replace('x=','')\n",
    "    List[2]=(List[2].replace(',','')).split('..')\n",
    "    List[3]=(List[3].replace('y=','')).split('..')\n",
    "    xmin=int(List[2][0])\n",
    "    xmax=int(List[2][1])\n",
    "    ymin=int(List[3][0])\n",
    "    ymax=int(List[3][1])\n",
    "    return xmin,xmax,ymin,ymax\n",
    "    \n",
    "def Root(x):\n",
    "    return .5*(-1+np.sqrt(1+4*x))\n",
    "\n",
    "def MaxI(v,y):\n",
    "    return .5*(1+2*v+np.sqrt((1+2*v)**2-8*y))\n",
    "\n",
    "if __name__ == '__main__':\n",
    "        \n",
    "    xmin,xmax,ymin,ymax=read_file('input')\n",
    "    print('xmin {} xmax {} ymin {} ymax {}'.format(xmin,xmax,ymin,ymax))\n",
    "    print('Maximal heigt {}'.format(int((ymin+1)*ymin/2)))\n",
    "    vxmin=int(Root(xmin))\n",
    "    vxmax=xmax+1\n",
    "    vymin=ymin\n",
    "    vymax=-ymin+1\n",
    "    #print('vxmin {} vxmax {} vymin {} vymax {}'.format(vxmin,vxmax,vymin,vymax))\n",
    "    nb=0\n",
    "    for vx0 in range(vxmin,vxmax+1):\n",
    "        for vy0 in range(vymin,vymax+1):\n",
    "            x,y=0,0\n",
    "            vx,vy=vx0,vy0\n",
    "            imax=int(MaxI(vy0,ymin))+1\n",
    "            for i in range(0,imax):\n",
    "                x += vx\n",
    "                y += vy\n",
    "                if vx>0:\n",
    "                    vx -= 1\n",
    "                vy -= 1\n",
    "                if xmin<=x and x<=xmax and ymin<=y and y<=ymax:\n",
    "                    nb+=1\n",
    "                    break\n",
    "    print('Number of hits {}'.format(nb))\n"
   ]
  }
 ],
 "metadata": {
  "kernelspec": {
   "display_name": "Python 3",
   "language": "python",
   "name": "python3"
  },
  "language_info": {
   "codemirror_mode": {
    "name": "ipython",
    "version": 3
   },
   "file_extension": ".py",
   "mimetype": "text/x-python",
   "name": "python",
   "nbconvert_exporter": "python",
   "pygments_lexer": "ipython3",
   "version": "3.9.2"
  }
 },
 "nbformat": 4,
 "nbformat_minor": 5
}
