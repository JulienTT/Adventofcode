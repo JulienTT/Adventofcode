{
 "cells": [
  {
   "cell_type": "code",
   "execution_count": 4,
   "id": "contemporary-prediction",
   "metadata": {},
   "outputs": [
    {
     "name": "stdout",
     "output_type": "stream",
     "text": [
      "30070\n"
     ]
    }
   ],
   "source": [
    "import sys\n",
    "import numpy as np\n",
    "def read_file(file_name):\n",
    "    with open(file_name) as input_file:\n",
    "        return input_file.read().splitlines()\n",
    "\n",
    "# turn the first line into the list of numbers\n",
    "def read_first_line(list_of_lines):\n",
    "    return [int(a) for a in list_of_lines[0].split(sep=',')]\n",
    "\n",
    "# turn the other line into the boards\n",
    "def read_boards(all_lines):\n",
    "    i=-1\n",
    "    #get the number of boards. Each is 5 lines + 1 blank line\n",
    "    nbmatrix=int((len(all_lines)-1)/6)\n",
    "\n",
    "    #initialize with zeros\n",
    "    matrix=np.zeros(shape=(nbmatrix,5,5),dtype=np.int64)\n",
    "    for _lines in all_lines:\n",
    "        #on blank lines, increase the rank of the board to be stored\n",
    "        if len(_lines)==0:\n",
    "            i +=1\n",
    "            j=0\n",
    "        #on non-blank lines, add the j^th line to matrix[i][j]\n",
    "        elif (i>-1):\n",
    "            #print([int(a) for a in _lines.split()])\n",
    "            matrix[i][j]=[int(a) for a in _lines.split()]\n",
    "            j+=1;\n",
    "    return matrix\n",
    "\n",
    "#when removing values, replace with -1\n",
    "def remove(j,board):\n",
    "    board[board==j]=-1\n",
    "    \n",
    "#a board has won when it has a line or column with 5 times the entry -1\n",
    "def is_winning(board):\n",
    "    return (5 in np.count_nonzero(board==-1, axis=0)) | (5 in np.count_nonzero(board==-1, axis=1))\n",
    "    \n",
    "if __name__ == '__main__':\n",
    "    # Part 1\n",
    "    \n",
    "    #read file\n",
    "    all_lines=read_file('input')\n",
    "    \n",
    "    #read first line \n",
    "    numbers=read_first_line(all_lines)\n",
    "    #print(numbers)\n",
    "    \n",
    "    #read the boards\n",
    "    boards=read_boards(all_lines)\n",
    "\n",
    "    #parse the list of numbers\n",
    "    for j in numbers:\n",
    "        #remove the number from the boards\n",
    "        remove(j,boards)\n",
    "        #Go through each board and get the index of the winning boards\n",
    "        idx = []\n",
    "        for i in range(boards.shape[0]):\n",
    "            board=boards[i]\n",
    "            #if there is only one winning board, this is the last one\n",
    "            # print the result and exit the prograrm\n",
    "            # otherwise if a board is winning, remove it\n",
    "            if is_winning(board):\n",
    "                if(boards.shape[0]==1):\n",
    "                    board[board==-1]=0\n",
    "                    print(j*sum(sum(board)))\n",
    "                    quit\n",
    "                else:\n",
    "                    idx.append(i)\n",
    "        #if this was not the last board -> delete the winning board\n",
    "        boards=np.delete(boards, idx, axis=0)\n"
   ]
  }
 ],
 "metadata": {
  "kernelspec": {
   "display_name": "Python 3",
   "language": "python",
   "name": "python3"
  },
  "language_info": {
   "codemirror_mode": {
    "name": "ipython",
    "version": 3
   },
   "file_extension": ".py",
   "mimetype": "text/x-python",
   "name": "python",
   "nbconvert_exporter": "python",
   "pygments_lexer": "ipython3",
   "version": "3.9.2"
  }
 },
 "nbformat": 4,
 "nbformat_minor": 5
}
