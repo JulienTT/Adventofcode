{
 "cells": [
  {
   "cell_type": "code",
   "execution_count": 1,
   "id": "contemporary-prediction",
   "metadata": {},
   "outputs": [
    {
     "name": "stdout",
     "output_type": "stream",
     "text": [
      "19457\n",
      "3587\n"
     ]
    }
   ],
   "source": [
    "import sys\n",
    "import numpy as np\n",
    "import collections\n",
    "def read_file(file_name):\n",
    "    with open(file_name) as input_file:\n",
    "        list_of_lines=input_file.read().splitlines()\n",
    "    polymer=[i for i in list_of_lines[0]]\n",
    "    list_of_rules=[line for line in list_of_lines if '->' in line]\n",
    "    rules={}\n",
    "    for rule in list_of_rules:\n",
    "        source=rule.split(sep=' -> ')[0]\n",
    "        target=rule.split(sep=' -> ')[1]\n",
    "        rules[source]=target\n",
    "    return polymer,rules\n",
    "    \n",
    "def grow_polymer(polymer,rules):\n",
    "    new_pol=[]\n",
    "    for i in range(0,len(polymer)-1):\n",
    "        String=polymer[i]+polymer[i+1]\n",
    "        new_letter=rules[String]\n",
    "        new_pol.append(polymer[i])\n",
    "        new_pol.append(new_letter)\n",
    "    new_pol.append(polymer[len(polymer)-1])\n",
    "    return new_pol\n",
    "    \n",
    "if __name__ == '__main__':\n",
    "   \n",
    "    polymer,rules = read_file('input')\n",
    "    for i in range(0,10):\n",
    "        polymer=grow_polymer(polymer,rules)\n",
    "        \n",
    "    print(len(polymer))\n",
    "    ordered_elem=collections.Counter(polymer).most_common()\n",
    "    print(ordered_elem[0][1]-ordered_elem[-1][1])\n"
   ]
  }
 ],
 "metadata": {
  "kernelspec": {
   "display_name": "Python 3",
   "language": "python",
   "name": "python3"
  },
  "language_info": {
   "codemirror_mode": {
    "name": "ipython",
    "version": 3
   },
   "file_extension": ".py",
   "mimetype": "text/x-python",
   "name": "python",
   "nbconvert_exporter": "python",
   "pygments_lexer": "ipython3",
   "version": "3.9.2"
  }
 },
 "nbformat": 4,
 "nbformat_minor": 5
}
