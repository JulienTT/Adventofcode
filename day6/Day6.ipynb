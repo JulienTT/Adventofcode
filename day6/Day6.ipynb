{
 "cells": [
  {
   "cell_type": "code",
   "execution_count": 26,
   "id": "contemporary-prediction",
   "metadata": {},
   "outputs": [
    {
     "name": "stdout",
     "output_type": "stream",
     "text": [
      "5934\n"
     ]
    }
   ],
   "source": [
    "from functools import lru_cache\n",
    "import sys\n",
    "import numpy as np\n",
    "def read_file(file_name):\n",
    "    with open(file_name) as input_file:\n",
    "        return input_file.read().splitlines()\n",
    "\n",
    "@lru_cache(maxsize=100)  \n",
    "def offsprings(my_clock,total_clock):\n",
    "    if(my_clock>=total_clock):\n",
    "        return 1;\n",
    "    else:\n",
    "        return offsprings(6,total_clock-my_clock-1)+offsprings(8,total_clock-my_clock-1);\n",
    "    \n",
    "    \n",
    "if __name__ == '__main__':\n",
    "    # Part 1\n",
    "    \n",
    "    #read lines\n",
    "    #all_lines=read_file('input-test')\n",
    "    all_lines=read_file('input-test')\n",
    "    \n",
    "    #extract initial clocks\n",
    "    clocks = [ int(i) for i in all_lines[0].split(sep=',')]\n",
    "    times = [80 for i in clocks]\n",
    "    #print(clocks)\n",
    "    #print(times)\n",
    "    #print(offsprings(clocks[0],times[0]))\n",
    "    print(sum(map(offsprings,clocks,times)))"
   ]
  },
  {
   "cell_type": "code",
   "execution_count": null,
   "id": "abroad-purchase",
   "metadata": {},
   "outputs": [],
   "source": [
    "def offsprings(my_clock,total_clock):\n",
    "    if(my_clock>=total_clock):\n",
    "        return 1;\n",
    "    \n",
    "    else:\n",
    "        return offsprings(6,total_clock-my_clock-1)+offsprings(8,total_clock-my_clock-1);\n",
    "    \n",
    "    \n",
    "if __name__ == '__main__':\n",
    "    # Part 1\n",
    "    \n",
    "    #read lines\n",
    "    #all_lines=read_file('input-test')\n",
    "    all_lines=read_file('input-test')\n",
    "    \n",
    "    #extract initial clocks\n",
    "    clocks = [ int(i) for i in all_lines[0].split(sep=',')]\n",
    "    times = [80 for i in clocks]\n",
    "    #print(clocks)\n",
    "    #print(times)\n",
    "    #print(offsprings(clocks[0],times[0]))\n",
    "    print(sum(map(offsprings,clocks,times)))"
   ]
  }
 ],
 "metadata": {
  "kernelspec": {
   "display_name": "Python 3",
   "language": "python",
   "name": "python3"
  },
  "language_info": {
   "codemirror_mode": {
    "name": "ipython",
    "version": 3
   },
   "file_extension": ".py",
   "mimetype": "text/x-python",
   "name": "python",
   "nbconvert_exporter": "python",
   "pygments_lexer": "ipython3",
   "version": "3.9.2"
  }
 },
 "nbformat": 4,
 "nbformat_minor": 5
}
