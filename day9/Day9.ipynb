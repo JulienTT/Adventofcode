{
 "cells": [
  {
   "cell_type": "code",
   "execution_count": 69,
   "id": "contemporary-prediction",
   "metadata": {},
   "outputs": [
    {
     "name": "stdout",
     "output_type": "stream",
     "text": [
      "417 1148965\n"
     ]
    }
   ],
   "source": [
    "import sys\n",
    "import numpy as np\n",
    "from functools import lru_cache\n",
    "\n",
    "def read_file(file_name):\n",
    "    with open(file_name) as input_file:\n",
    "        return input_file.read().splitlines()\n",
    "    \n",
    "# turn the other line into a matrix\n",
    "def make_matrix(all_lines):\n",
    "    nblines=len(all_lines)\n",
    "    nbcolumn=len(all_lines[0])\n",
    "    matrix=np.zeros((nblines,nbcolumn),dtype=np.int64)\n",
    "    i=0\n",
    "    for _lines in all_lines:\n",
    "        for words in _lines.split():\n",
    "            matrix[i]=[int(char) for char in words]\n",
    "            i+=1;\n",
    "    return matrix\n",
    "\n",
    "def is_lower(i,j,data):\n",
    "    bool=True\n",
    "    if(i>0):\n",
    "        bool=bool and (data[i][j]<data[i-1][j])\n",
    "    if(i<len(data)-1):\n",
    "        bool=bool and (data[i][j]<data[i+1][j])\n",
    "    if(j>0):\n",
    "        bool=bool and (data[i][j]<data[i][j-1])\n",
    "    if(j<len(data[0])-1):\n",
    "        bool=bool and (data[i][j]<data[i][j+1])\n",
    "    return bool\n",
    "\n",
    "def make_bassin(i,j,data,bassin):\n",
    "    bassin[i][j]=1\n",
    "    if(i>0 and data[i][j]<data[i-1][j] and data[i-1][j]<9):\n",
    "        make_bassin(i-1,j,data,bassin)\n",
    "    if(i<len(data)-1 and data[i][j]<data[i+1][j] and data[i+1][j]<9):\n",
    "        make_bassin(i+1,j,data,bassin)\n",
    "    if(j>0 and data[i][j]<data[i][j-1] and data[i][j-1]<9):\n",
    "        make_bassin(i,j-1,data,bassin)\n",
    "    if(j<len(data[0])-1 and data[i][j]<data[i][j+1] and data[i][j+1]<9):\n",
    "        make_bassin(i,j+1,data,bassin)\n",
    "    \n",
    "\n",
    "if __name__ == '__main__':\n",
    "    #read lines\n",
    "    #all_lines=read_file('input-test')\n",
    "    all_lines=read_file('input')\n",
    "\n",
    "    #make a matrix out of the list\n",
    "    data=make_matrix(all_lines)\n",
    "    \n",
    "    #danger contains the list of bassin sizes\n",
    "    danger=[];\n",
    "    \n",
    "    #risk level initialized to 1\n",
    "    risk=0;\n",
    "    #parse the matrix\n",
    "    for i in range(0,len(data)):\n",
    "        for j in range(0,len(data[0])):\n",
    "            #test if (i,j) is a local minimum\n",
    "            if is_lower(i,j,data):\n",
    "                #measure the risk\n",
    "                risk+=data[i][j]+1\n",
    "                #construct the bassin\n",
    "                bassin=data*0;\n",
    "                make_bassin(i,j,data,bassin)\n",
    "                #store its size in danger\n",
    "                bassin_size=len(bassin[bassin>0])\n",
    "                danger.append(bassin_size)\n",
    "    danger.sort()\n",
    "    result=1;\n",
    "    for i in range(len(danger)-3,len(danger)):\n",
    "        result *= danger[i]\n",
    "    print(risk,result)\n",
    "    "
   ]
  },
  {
   "cell_type": "code",
   "execution_count": null,
   "id": "serial-logistics",
   "metadata": {},
   "outputs": [],
   "source": []
  }
 ],
 "metadata": {
  "kernelspec": {
   "display_name": "Python 3",
   "language": "python",
   "name": "python3"
  },
  "language_info": {
   "codemirror_mode": {
    "name": "ipython",
    "version": 3
   },
   "file_extension": ".py",
   "mimetype": "text/x-python",
   "name": "python",
   "nbconvert_exporter": "python",
   "pygments_lexer": "ipython3",
   "version": "3.9.2"
  }
 },
 "nbformat": 4,
 "nbformat_minor": 5
}
