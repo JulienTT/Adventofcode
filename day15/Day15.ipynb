{
 "cells": [
  {
   "cell_type": "code",
   "execution_count": 18,
   "id": "contemporary-prediction",
   "metadata": {},
   "outputs": [
    {
     "name": "stdout",
     "output_type": "stream",
     "text": [
      "5 100 100\n",
      "solution\n",
      "368\n"
     ]
    }
   ],
   "source": [
    "import sys\n",
    "import numpy as np\n",
    "from functools import lru_cache,wraps\n",
    "\n",
    "import collections\n",
    "def read_file(file_name):\n",
    "    with open(file_name) as input_file:\n",
    "        list_of_lines=input_file.read().splitlines()\n",
    "    Ly=len(list_of_lines)\n",
    "    Lx=len(list_of_lines[0])\n",
    "    Cave=np.zeros((Ly,Lx),np.int64)\n",
    "    for y,line in enumerate(list_of_lines):\n",
    "        for x,i in enumerate(line):\n",
    "            Cave[y][x]=int(i)\n",
    "    return Lx,Ly,Cave\n",
    "\n",
    "#Assuming, without reason, to always go right and down\n",
    "#Works only on the example -> failed\n",
    "@lru_cache(maxsize=1000)  \n",
    "def small_dist_dumb(Cave,i,j,Lx,Ly):\n",
    "\n",
    "    if i!=0 or j!=0:\n",
    "        cost=Cave[j][i]\n",
    "    else:\n",
    "        cost=0\n",
    "    if i==Lx-1:\n",
    "        if j==Ly-1:\n",
    "            return Cave[Ly-1][Lx-1]\n",
    "        else:\n",
    "            return cost+small_dist_dumb(Cave,i,j+1,Lx,Ly)\n",
    "    elif j==Ly-1:\n",
    "        return cost+small_dist_dumb(Cave,i+1,j,Lx,Ly)\n",
    "    else:\n",
    "        return cost+min(small_dist_dumb(Cave,i+1,j,Lx,Ly),small_dist_dumb(Cave,i,j+1,Lx,Ly))\n",
    "    \n",
    "if __name__ == '__main__':\n",
    "   \n",
    "    Lx,Ly,Cave = read_file('input')\n",
    "    Cave = tuple(map(tuple, Cave))\n",
    "    print(Cave[1][1],Lx,Ly)\n",
    "    print(\"solution\")\n",
    "    print(small_dist_dumb(Cave,0,0,Lx,Ly))\n",
    "    #Lx,Ly,Cave = read_file('input')\n",
    "    \n",
    "    \n"
   ]
  },
  {
   "cell_type": "code",
   "execution_count": 54,
   "id": "accessory-kitchen",
   "metadata": {},
   "outputs": [
    {
     "name": "stdout",
     "output_type": "stream",
     "text": [
      "P K {'PB': 1, 'BV': 1, 'VH': 1, 'HV': 1, 'VO': 1, 'OC': 2, 'CO': 1, 'CF': 1, 'FF': 1, 'FN': 1, 'NB': 1, 'BC': 1, 'CN': 1, 'NC': 1, 'CC': 1, 'CB': 1, 'BH': 1, 'HK': 1}\n",
      "{'P': 1395064267140, 'K': 4528494459174, 'B': 2881943855967, 'V': 2351208720414, 'O': 2805606543797, 'C': 1534441588873, 'F': 1661479204940, 'N': 622049381175, 'H': 653396479204, 'S': 2457036427061}\n",
      "K 4528494459174 N 622049381175 3906445077999\n"
     ]
    }
   ],
   "source": [
    "import sys\n",
    "import numpy as np\n",
    "from functools import lru_cache,wraps\n",
    "\n",
    "import collections\n",
    "def read_file(file_name):\n",
    "    with open(file_name) as input_file:\n",
    "        list_of_lines=input_file.read().splitlines()\n",
    "    Ly=len(list_of_lines)\n",
    "    Lx=len(list_of_lines[0])\n",
    "    Cave=np.zeros((Ly,Lx),np.int64)\n",
    "    for y,line in enumerate(list_of_lines):\n",
    "        for x,i in enumerate(line):\n",
    "            Cave[y][x]=int(i)\n",
    "    return Lx,Ly,Cave\n",
    "\n",
    "if __name__ == '__main__':\n",
    "   \n",
    "    Lx,Ly,Cave = read_file('input')\n",
    "    Cave = tuple(map(tuple, Cave))\n",
    "    print(Cave[1][1],Lx,Ly)\n",
    "    \n",
    "    print(\"solution\")\n",
    "    print(small_dist_dumb(Cave,0,0,Lx,Ly))\n",
    "    #Lx,Ly,Cave = read_file('input')\n"
   ]
  }
 ],
 "metadata": {
  "kernelspec": {
   "display_name": "Python 3",
   "language": "python",
   "name": "python3"
  },
  "language_info": {
   "codemirror_mode": {
    "name": "ipython",
    "version": 3
   },
   "file_extension": ".py",
   "mimetype": "text/x-python",
   "name": "python",
   "nbconvert_exporter": "python",
   "pygments_lexer": "ipython3",
   "version": "3.9.2"
  }
 },
 "nbformat": 4,
 "nbformat_minor": 5
}
